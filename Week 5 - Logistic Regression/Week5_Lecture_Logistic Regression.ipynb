{
 "cells": [
  {
   "cell_type": "markdown",
   "metadata": {
    "colab_type": "text",
    "id": "ZEb8Tu6ES8YB"
   },
   "source": [
    "# Logistic Regression"
   ]
  },
  {
   "cell_type": "code",
   "execution_count": 1,
   "metadata": {
    "colab": {},
    "colab_type": "code",
    "executionInfo": {
     "elapsed": 922,
     "status": "ok",
     "timestamp": 1596177627445,
     "user": {
      "displayName": "Minh Do",
      "photoUrl": "https://lh3.googleusercontent.com/a-/AOh14GhnQ6aJ2YnaevyJzhii-qGws6Y17w-cwWLqF5iP=s64",
      "userId": "12822549848477954436"
     },
     "user_tz": -420
    },
    "id": "sHw2X4Vusl97"
   },
   "outputs": [],
   "source": [
    "import numpy as np\n",
    "import pandas as pd\n",
    "import seaborn as sns\n",
    "import matplotlib.pyplot as plt\n",
    "%matplotlib inline\n",
    "\n",
    "import warnings\n",
    "warnings.filterwarnings('ignore')\n",
    "\n",
    "sns.set_style(\"whitegrid\")"
   ]
  },
  {
   "cell_type": "code",
   "execution_count": 2,
   "metadata": {
    "colab": {},
    "colab_type": "code",
    "executionInfo": {
     "elapsed": 918,
     "status": "ok",
     "timestamp": 1596177627446,
     "user": {
      "displayName": "Minh Do",
      "photoUrl": "https://lh3.googleusercontent.com/a-/AOh14GhnQ6aJ2YnaevyJzhii-qGws6Y17w-cwWLqF5iP=s64",
      "userId": "12822549848477954436"
     },
     "user_tz": -420
    },
    "id": "SDoNiFkisjPQ"
   },
   "outputs": [],
   "source": [
    "#@title Helper functions {display-mode: \"form\"}\n",
    "\n",
    "# This code will be hidden when the notebook is loaded.\n",
    "\n",
    "# Helper functions\n",
    "def draw_grid(x_lim=np.array([-4, 4]), y_lim=np.array([-4, 4])):\n",
    "    \"\"\"Draw an empty grid\"\"\"\n",
    "    ax = plt.gca()\n",
    "    # Draw ticks and grid\n",
    "    for i in range(int(x_lim.min()), int(x_lim.max())):\n",
    "        ax.axvline(i, linestyle='--', color='#ecf0f1', zorder=0)\n",
    "        ax.plot([i, i], [0.05, -0.05], color='#2c3e50')\n",
    "    for i in range(int(y_lim.min()), int(y_lim.max())):\n",
    "        ax.axhline(i, linestyle='--', color='#ecf0f1', zorder=0)\n",
    "        ax.plot([0.05, -0.05], [i, i], color='#2c3e50')\n",
    "    # x and y axis\n",
    "    ax.axhline(0, color='#2c3e50', zorder=0)\n",
    "    ax.axvline(0, color='#2c3e50', zorder=0)\n",
    "    ax.scatter([0], [0], color='#c0392b', zorder=0)\n",
    "\n",
    "    ax.grid(False)\n",
    "    ax.set_xlim(x_lim)\n",
    "    ax.set_ylim(y_lim)\n",
    "\n",
    "def draw_vectors(vectors, origin='origin', cmap=None, labels=None):\n",
    "    if cmap:\n",
    "        colors = cmap\n",
    "    else:\n",
    "        colors = ['#3498db', '#e67e22', '#f1c40f', '#2ecc71', '#1abc9c']\n",
    "\n",
    "    if origin == 'origin':\n",
    "        x_0 = np.zeros(len(vectors))\n",
    "        y_0 = np.zeros(len(vectors))\n",
    "    else:\n",
    "        x_0, y_0 = origin[:, 0], origin[:, 1]\n",
    "    ax = plt.gca()\n",
    "    if labels:\n",
    "        for i in range(len(vectors)):\n",
    "            ax.text(vectors[i][0]+0.1, vectors[i][1]+0.2, labels[i],\n",
    "                    {'color': 'black', 'fontsize': 14, 'ha': 'center', 'va': 'center',\n",
    "                    'bbox': dict(boxstyle=\"round\", fc=\"white\", alpha=0)})\n",
    "    ax.quiver(x_0, y_0, vectors[:, 0], vectors[:, 1],\n",
    "              angles='xy', scale_units='xy', scale=1, color=colors)\n",
    "\n",
    "def projection(x, y):\n",
    "    color = '#95a5a6'\n",
    "    ax = plt.gca()\n",
    "    dot_product = np.dot(x, y)\n",
    "    y_norm = y / np.dot(y, y)\n",
    "    x_projection = y_norm * dot_product\n",
    "    ax.plot((x[0], x_projection[0]), (x[1], x_projection[1]), linestyle='--', linewidth=3, c=color)\n",
    "    draw_vectors(np.array([x_projection]), cmap=['#bdc3c7'])\n",
    "\n",
    "def determinant_area(i_hat, j_hat):\n",
    "    ax = plt.gca()\n",
    "    sum_vector = i_hat + j_hat\n",
    "    polygon = plt.Polygon([(0, 0), i_hat, sum_vector, j_hat], fill=True, color='#f39c12', alpha=0.3)\n",
    "    print('Determinant Area:', np.abs(i_hat[0]*j_hat[1] - i_hat[1]*j_hat[0]))\n",
    "    ax.add_line(polygon)"
   ]
  },
  {
   "cell_type": "markdown",
   "metadata": {
    "colab_type": "text",
    "id": "UesmXbRZEkx2"
   },
   "source": [
    "## The Hyperplane"
   ]
  },
  {
   "cell_type": "markdown",
   "metadata": {
    "colab_type": "text",
    "id": "_exHRlNiEokP"
   },
   "source": [
    "A hyperplane is a subspace of its ambient space, and defined as:\n",
    "\n",
    "$$\n",
    "H = \\{x: w^Tx + b = 0 \\}\n",
    "$$\n",
    "\n",
    "* Examples, if a space is 3-dimensional then it's hyperplanes are 2-dimensional planes, while if the space is 2-dimensional plane, its hyperplanes are 1-dimensional lines.\n",
    "* The hyperplane is perpendicular to the vector $w$\n",
    "\n",
    "$b$ is the bias term. Without $b$, the hyperplane that $w$ defines would always have to go though the origin. We can get rid of $b$ by adding one additional constant dimension:\n",
    "\n",
    "$$\n",
    "x \\rightarrow \\begin{bmatrix} x \\\\ 1 \\end{bmatrix} \\\\\n",
    "w \\rightarrow \\begin{bmatrix} w \\\\ b \\end{bmatrix} \\\\\n",
    "\\begin{bmatrix} x \\\\ 1 \\end{bmatrix} \\begin{bmatrix} w \\\\ b \\end{bmatrix} = w^Tx + b\n",
    "$$\n"
   ]
  },
  {
   "cell_type": "markdown",
   "metadata": {
    "colab_type": "text",
    "id": "6Yp62vqvG_gc"
   },
   "source": [
    "**The classifier**"
   ]
  },
  {
   "cell_type": "markdown",
   "metadata": {
    "colab_type": "text",
    "id": "Q-d31I-5HCNR"
   },
   "source": [
    "A binary classifier with $y \\in C = \\{-1, +1 \\}$ can be defined as:\n",
    "\n",
    "$$\n",
    "h(x) = sign(w^Tx + b) \\\\\n",
    "y_i(w^Tx_i + b) > 0 \\Leftrightarrow x_i \\text{ is classified correctly}\n",
    "$$\n",
    "\n"
   ]
  },
  {
   "cell_type": "code",
   "execution_count": 3,
   "metadata": {
    "colab": {},
    "colab_type": "code",
    "executionInfo": {
     "elapsed": 914,
     "status": "ok",
     "timestamp": 1596177627447,
     "user": {
      "displayName": "Minh Do",
      "photoUrl": "https://lh3.googleusercontent.com/a-/AOh14GhnQ6aJ2YnaevyJzhii-qGws6Y17w-cwWLqF5iP=s64",
      "userId": "12822549848477954436"
     },
     "user_tz": -420
    },
    "id": "RjKRdxge1XqZ"
   },
   "outputs": [],
   "source": [
    "# Find an example of w and b for the below demo\n",
    "w = np.array([-1, 1])\n",
    "b = -6\n",
    "\n",
    "# Logistic Regression result\n",
    "# w = np.array([-1.6088516 ,  0.26800105])\n",
    "# b = -3.52428733"
   ]
  },
  {
   "cell_type": "code",
   "execution_count": 4,
   "metadata": {
    "colab": {},
    "colab_type": "code",
    "executionInfo": {
     "elapsed": 910,
     "status": "ok",
     "timestamp": 1596177627447,
     "user": {
      "displayName": "Minh Do",
      "photoUrl": "https://lh3.googleusercontent.com/a-/AOh14GhnQ6aJ2YnaevyJzhii-qGws6Y17w-cwWLqF5iP=s64",
      "userId": "12822549848477954436"
     },
     "user_tz": -420
    },
    "id": "x2sPB7UIl1cy"
   },
   "outputs": [],
   "source": [
    "from sklearn.datasets import make_blobs\n",
    "\n",
    "X, y = make_blobs(n_samples=50, n_features=2, centers=2, random_state=102)"
   ]
  },
  {
   "cell_type": "code",
   "execution_count": 5,
   "metadata": {
    "colab": {
     "base_uri": "https://localhost:8080/",
     "height": 533
    },
    "colab_type": "code",
    "executionInfo": {
     "elapsed": 2260,
     "status": "ok",
     "timestamp": 1596177628803,
     "user": {
      "displayName": "Minh Do",
      "photoUrl": "https://lh3.googleusercontent.com/a-/AOh14GhnQ6aJ2YnaevyJzhii-qGws6Y17w-cwWLqF5iP=s64",
      "userId": "12822549848477954436"
     },
     "user_tz": -420
    },
    "id": "GSXRmRgoLfT2",
    "outputId": "341e78a9-dfef-44e5-b8b9-11ab3add1236"
   },
   "outputs": [
    {
     "data": {
      "image/png": "[encoded data removed]",
      "text/plain": [
       "<Figure size 576x576 with 1 Axes>"
      ]
     },
     "metadata": {},
     "output_type": "display_data"
    }
   ],
   "source": [
    "#@title Hyperplane example {display-mode: \"form\"}\n",
    "\n",
    "# This code will be hidden when the notebook is loaded.\n",
    "\n",
    "# Hyperplane example\n",
    "\n",
    "plt.figure(figsize=(8, 8))\n",
    "draw_grid(x_lim=np.array([-7, 5]), y_lim=np.array([-2, 10]))\n",
    "plt.scatter(X[y == 0][:, 0], X[y == 0][:, 1], c='r', label='Class -1')\n",
    "plt.scatter(X[y == 1][:, 0], X[y == 1][:, 1], c='g', label='Class +1')\n",
    "\n",
    "draw_vectors(np.array([w]), origin=np.array([[(-b/w[0]), 0]]))\n",
    "x_1 = np.linspace(-8, 8, 100)\n",
    "plt.plot(x_1, (-w[0]/w[1])*x_1 + (-b/w[1]))\n",
    "\n",
    "plt.xlabel(r'$x_1$', fontsize=20)\n",
    "plt.ylabel(r'$x_2$', fontsize=20)\n",
    "plt.title(r'$h(x) = sign({}x_1 + {}x_2 + {})$'.format(w[0], w[1], b), fontsize=24)\n",
    "plt.legend()\n",
    "plt.show()"
   ]
  },
  {
   "cell_type": "markdown",
   "metadata": {
    "colab_type": "text",
    "id": "wMjnohMMC7Bd"
   },
   "source": [
    "## The sigmoid function"
   ]
  },
  {
   "cell_type": "markdown",
   "metadata": {
    "colab_type": "text",
    "id": "6dSbMrCaC-NR"
   },
   "source": [
    "$$\n",
    "\\sigma(z) = \\frac{1}{1 + e^{-z}} \\\\\n",
    "\\sigma' = \\sigma(1 - \\sigma)\n",
    "$$\n",
    "\n"
   ]
  },
  {
   "cell_type": "markdown",
   "metadata": {
    "colab_type": "text",
    "id": "ZAsS5GNoDvbw"
   },
   "source": [
    "* The sigmoid function has the S-shaped curve or sigmoid curve. \n",
    "* For any $z \\in R$, $\\sigma(z)$ returns a value between 0 and 1"
   ]
  },
  {
   "cell_type": "code",
   "execution_count": 6,
   "metadata": {
    "colab": {
     "base_uri": "https://localhost:8080/",
     "height": 370
    },
    "colab_type": "code",
    "executionInfo": {
     "elapsed": 2252,
     "status": "ok",
     "timestamp": 1596177628804,
     "user": {
      "displayName": "Minh Do",
      "photoUrl": "https://lh3.googleusercontent.com/a-/AOh14GhnQ6aJ2YnaevyJzhii-qGws6Y17w-cwWLqF5iP=s64",
      "userId": "12822549848477954436"
     },
     "user_tz": -420
    },
    "id": "LLibgviAPs1U",
    "outputId": "3813c0df-9731-428b-cfe4-bcb3d9ed6c3b"
   },
   "outputs": [
    {
     "data": {
      "image/png": "[encoded data removed]",
      "text/plain": [
       "<Figure size 720x360 with 1 Axes>"
      ]
     },
     "metadata": {},
     "output_type": "display_data"
    }
   ],
   "source": [
    "def sigmoid(z):\n",
    "    return 1./(1 + np.exp(-z))\n",
    "\n",
    "z = np.linspace(-10, 10, 1000)\n",
    "s = sigmoid(z)\n",
    "\n",
    "plt.figure(figsize=(10, 5))\n",
    "draw_grid(x_lim=np.array([-10, 10]), y_lim=np.array([-1, 2]))\n",
    "plt.plot(z, s)\n",
    "plt.title(r'$\\sigma = \\frac{1}{1+e^{-z}}$', fontsize=24)\n",
    "plt.xlabel('z', fontsize=20)\n",
    "plt.ylabel(r'$\\sigma$', fontsize=20)\n",
    "plt.show()"
   ]
  },
  {
   "cell_type": "markdown",
   "metadata": {
    "colab_type": "text",
    "id": "bIn87rk87cgI"
   },
   "source": [
    "## Definition\n",
    "\n",
    "Logistic Regression solves **classification** problems. Logistic Regression assumes that $P(y^{(i)}=1|x^{(i)})$ takes on exactly this form:\n",
    "\n",
    "$$\n",
    "P(y^{(i)}=1|x^{(i)}) = \\frac{1}{1 + e^{-(w^Tx^{(i)} + b)}} = \\hat{y}^{(i)}\n",
    "$$\n",
    "\n",
    "so,\n",
    "\n",
    "$$\n",
    "P(y^{(i)}=0|x^{(i)}) = 1 - P(y^{(i)}=1|x^{(i)}) = \\frac{e^{-(w^Tx^{(i)} + b)}}{1 + e^{-(w^Tx^{(i)} + b)}} = 1 - \\hat{y}^{(i)}\n",
    "$$\n",
    "\n"
   ]
  },
  {
   "cell_type": "markdown",
   "metadata": {
    "colab_type": "text",
    "id": "kNBFy4Y1euDq"
   },
   "source": [
    "For binary classification we have the **Bernoulli(p)** distribution (one if a coin with heads probability p comes up heads, zero otherwise):\n",
    "$$\n",
    "f(y;p) = \\begin{cases}\n",
    "    p & if\\ y = 1 \\\\\n",
    "    1−p & if\\ y = 0\n",
    "\\end{cases} \\\\\n",
    "\\text{or} \\\\\n",
    "f(y) = p^y(1-p)^{1-y}\n",
    "$$\n",
    "\n",
    "so we can rewrite $P(y|X)$ as\n",
    "\n",
    "$$\n",
    "P(y|X) = \\hat{y}^{y}(1 - \\hat{y})^{1-y}\n",
    "$$"
   ]
  },
  {
   "cell_type": "markdown",
   "metadata": {
    "colab_type": "text",
    "id": "MyE4lMoXoj74"
   },
   "source": [
    "**The computation graph**\n",
    "\n",
    "<div align=\"center\">\n",
    "    <img src=\"https://i.imgur.com/pTBwCM2.png\" width=\"600\" />\n",
    "</div>\n"
   ]
  },
  {
   "cell_type": "markdown",
   "metadata": {
    "colab_type": "text",
    "id": "R8DcAPP1Cq2r"
   },
   "source": [
    "For one sample $x^{(i)}$:\n",
    "$$z^{(i)} = w^T x^{(i)} + b \\tag{1}$$\n",
    "$$\\hat{y}^{(i)} = \\sigma(z^{(i)})\\tag{2}$$ "
   ]
  },
  {
   "cell_type": "markdown",
   "metadata": {
    "colab_type": "text",
    "id": "UjBpiA0ZCV6E"
   },
   "source": [
    "For the entire dataset:\n",
    "\n",
    "$$Z = Xw + b \\tag{3} $$\n",
    "$$\\hat{y} = \\sigma(Z) = \\sigma(Xw + b) \\tag{4} $$\n"
   ]
  },
  {
   "cell_type": "markdown",
   "metadata": {
    "colab_type": "text",
    "id": "Il2ZxYYsKqup"
   },
   "source": [
    "## Maximum likelihood estimate (MLE)\n",
    "\n",
    "From the definition of supervised learning:\n",
    "\n",
    "The data points $(x^{(i)}, y^{(i)})$ are drawn from some distribution $P(X, Y)$. Ultimately we would like to learn a function $h$ such that for a new pair $(x, y) \\sim P$, we have $h(x) \\approx y$ with high probability.\n",
    "\n",
    "In MLE we choose parameters that maximize the connditional likelihood. The conditional likelihood $P(y|X,w)$ is the probability of the observed values $y \\in R^m$ in the training data conditioned on the feature values $x^{(i)}$ in $X = [x^{(1)}, x^{(2)}, \\dots, x^{(m)}]^T \\in R^{m \\times n}$. We choose the parameters $w$ that maximize:\n",
    "\n",
    "$$\n",
    "\\begin{array}\n",
    "  0 P(y|X,w) = \\prod_{i=1}^m{P(y^{(i)}|x^{(i)},w)} & \\text{assume that $y^{(i)}$ is independent given the input $x^{(i)}$ and $w$ } \n",
    "\\end{array}\n",
    "$$\n",
    "<br/>\n",
    "$$\n",
    "log \\Big( \\prod_{i=1}^m{P(y^{(i)}|x^{(i)},w)} \\Big) = \\sum_{i=1}^m{ \\Big( y^{(i)} log( \\hat{y}^{(i)}) + (1-y^{(i)}) log(1 - \\hat{y}^{(i)}) \\Big)} \\\\\n",
    "w_{MLE} = argmax_w \\sum_{i=1}^m{ \\Big( y^{(i)} log( \\hat{y}^{(i)}) + (1-y^{(i)}) log(1 - \\hat{y}^{(i)}) \\Big)}  \\\\\n",
    "w_{MLE} = argmin_w -\\frac{1}{m} \\sum_{i=1}^m{ \\Big( y^{(i)} log( \\hat{y}^{(i)}) + (1-y^{(i)}) log(1 - \\hat{y}^{(i)}) \\Big)}  \\\\\n",
    "$$\n",
    "\n",
    "**The loss function**\n",
    "\n",
    "$$\n",
    "J(w, b) = -\\frac{1}{m}\\sum_{i=1}^m{ \\Big( y^{(i)} log( \\hat{y}^{(i)}) + (1-y^{(i)}) log(1 - \\hat{y}^{(i)}) \\Big)}\n",
    "$$\n",
    "\n",
    "is also called **binary cross entropy**."
   ]
  },
  {
   "cell_type": "markdown",
   "metadata": {
    "colab_type": "text",
    "id": "yUgjF6jTkY9O"
   },
   "source": [
    "## Gradient Descent"
   ]
  },
  {
   "cell_type": "markdown",
   "metadata": {
    "colab_type": "text",
    "id": "tkx7BNKPkfNP"
   },
   "source": [
    "**Forward Propagation:**\n",
    "$$Z = Xw + b$$\n",
    "$$\\hat{y} = \\sigma(Z) =\\sigma(Xw + b) $$\n",
    "$$J(w, b) = -\\frac{1}{m}\\sum_{i=1}^m{ \\Big( y^{(i)} log( \\hat{y}^{(i)}) + (1-y^{(i)}) log(1 - \\hat{y}^{(i)}) \\Big)} \\tag{5}$$\n",
    "\n",
    "**and Backward**\n",
    "\n",
    "$$ \\frac{\\partial J}{\\partial w} = \\frac{1}{m}X^T(\\hat{y}-y)\\tag{6}$$\n",
    "$$ \\frac{\\partial J}{\\partial b} = \\frac{1}{m} \\sum_{i=1}^m (\\hat{y}^{(i)}-y^{(i)})\\tag{7}$$"
   ]
  },
  {
   "cell_type": "markdown",
   "metadata": {
    "colab_type": "text",
    "id": "uDNu274PIK0i"
   },
   "source": [
    "**Discussion**: Prove the fomulas (6) and (7)"
   ]
  },
  {
   "cell_type": "markdown",
   "metadata": {
    "colab_type": "text",
    "id": "wOBQ-xS-wgmo"
   },
   "source": [
    "**Prove (6)**:\n",
    "\n",
    "$$\n",
    "\\frac{dJ}{dw_j} = \\frac{dJ}{d\\hat{y}}.\\frac{d\\hat{y}}{dZ}.\\frac{dZ}{dw_j}\n",
    "$$\n",
    "\n",
    "For $j \\in {1 \\dots n}$\n",
    "\n",
    "Solving $\\frac{dJ}{d\\hat{y}}$:\n",
    "\n",
    "$$\n",
    "\\frac{dJ}{d\\hat{y}} = \\frac{-1}{m} \\sum_{i=1}^m {\\frac{y^{(i)}}{\\hat{y}^{(i)}} - \\frac{(1-y^{(i)})}{1-\\hat{y}^{(i)}}} \\\\\n",
    "\\Rightarrow \\frac{dJ}{d\\hat{y}} = \\frac{-1}{m} \\sum_{i=1}^m {\\frac{y^{(i)}(1-\\hat{y}^{(i)}) - (1-y^{(i)})\\hat{y}^{(i)}}{\\hat{y}^{(i)}(1-\\hat{y}^{(i)})}} \\\\\n",
    "$$\n",
    "\n",
    "$$\n",
    "\\Rightarrow \\frac{dJ}{d\\hat{y}} = \\frac{-1}{m} \\sum_{i=1}^m {\\frac{y^{(i)} - \\hat{y}^{(i)}}{\\hat{y}^{(i)}(1-\\hat{y}^{(i)})}} \\tag{8} \\\\\n",
    "$$"
   ]
  },
  {
   "cell_type": "markdown",
   "metadata": {
    "colab_type": "text",
    "id": "uImMfsuQXOJ1"
   },
   "source": [
    "Solving $\\frac{d\\hat{y}}{dZ}$:\n",
    "\n",
    "$$\n",
    "\\frac{d\\hat{y}}{dZ} = \\hat{y}(1 - \\hat{y}) \\tag{9}\n",
    "$$\n",
    "\n",
    "because $\\hat{y} = sigmoid(Z)$"
   ]
  },
  {
   "cell_type": "markdown",
   "metadata": {
    "colab_type": "text",
    "id": "wyQn_cVyYPm_"
   },
   "source": [
    "Solving $\\frac{dZ}{dw_j}$:\n",
    "\n",
    "$$\n",
    "\\frac{dZ}{dw_j} = x_j\n",
    "$$"
   ]
  },
  {
   "cell_type": "markdown",
   "metadata": {
    "colab_type": "text",
    "id": "QS_wAz4HZ1iS"
   },
   "source": [
    "So,\n",
    "\n",
    "$$\n",
    "\\frac{dJ}{dw_j} = \\frac{dJ}{d\\hat{y}}.\\frac{d\\hat{y}}{dZ}.\\frac{dZ}{dw_j} \\\\\n",
    "\\Rightarrow \\frac{dJ}{dw_j} = \\frac{-1}{m} \\sum_{i=1}^m {\\frac{y^{(i)} - \\hat{y}^{(i)}}{\\hat{y}^{(i)}(1-\\hat{y}^{(i)})} \\hat{y}^{(i)}(1 - \\hat{y}^{(i)}) x^{(i)}_j } = \\frac{-1}{m} \\sum_{i=1}^m {(y^{(i)} - \\hat{y}^{(i)}) x^{(i)}_j } \\\\\n",
    "\\Rightarrow \\frac{dJ}{dw} = \\frac{1}{m}X^T(\\hat{y}-y)\n",
    "$$"
   ]
  },
  {
   "cell_type": "markdown",
   "metadata": {
    "colab_type": "text",
    "id": "ln6IX9JCc1QT"
   },
   "source": [
    "**Prove (7):**\n",
    "\n",
    "$$\n",
    "\\frac{dJ}{db} = \\frac{dJ}{d\\hat{y}}.\\frac{d\\hat{y}}{dZ}.\\frac{dZ}{db}\n",
    "$$\n",
    "\n",
    "Because\n",
    "\n",
    "$$\n",
    "\\frac{dZ}{db} = 1\n",
    "$$\n",
    "\n",
    "and based on (8) and (9), we have\n",
    "\n",
    "$$\n",
    "\\frac{dJ}{db} = \\frac{1}{m} \\sum_{i=1}^m (\\hat{y}^{(i)}-y^{(i)})\n",
    "$$"
   ]
  },
  {
   "cell_type": "markdown",
   "metadata": {
    "colab_type": "text",
    "id": "IjUks_1TnGZj"
   },
   "source": [
    "## Implement with sklearn"
   ]
  },
  {
   "cell_type": "code",
   "execution_count": 7,
   "metadata": {
    "colab": {
     "base_uri": "https://localhost:8080/",
     "height": 119
    },
    "colab_type": "code",
    "executionInfo": {
     "elapsed": 2241,
     "status": "ok",
     "timestamp": 1596177628804,
     "user": {
      "displayName": "Minh Do",
      "photoUrl": "https://lh3.googleusercontent.com/a-/AOh14GhnQ6aJ2YnaevyJzhii-qGws6Y17w-cwWLqF5iP=s64",
      "userId": "12822549848477954436"
     },
     "user_tz": -420
    },
    "id": "BOSbzp47IYw9",
    "outputId": "1d86a025-3bc9-42ad-fd37-72ee39c4ee1c"
   },
   "outputs": [
    {
     "name": "stdout",
     "output_type": "stream",
     "text": [
      "Accuracy score: 1.000000\n",
      "Confusion Matrix:\n",
      "[[25  0]\n",
      " [ 0 25]]\n",
      "w =  [[-1.6088516   0.26800105]]\n",
      "b =  [-3.52428733]\n"
     ]
    }
   ],
   "source": [
    "from sklearn.linear_model import LogisticRegression\n",
    "from sklearn.metrics import confusion_matrix, accuracy_score\n",
    "\n",
    "# Create Logistics Regression model from X and y\n",
    "lg = LogisticRegression()\n",
    "lg.fit(X, y)\n",
    "predictions = lg.predict(X)\n",
    "# Show metrics\n",
    "print(\"Accuracy score: %f\" % accuracy_score(y, predictions))\n",
    "print(\"Confusion Matrix:\")\n",
    "print(confusion_matrix(y, predictions))\n",
    "\n",
    "# Show parameters\n",
    "print('w = ', lg.coef_)\n",
    "print('b = ', lg.intercept_)"
   ]
  },
  {
   "cell_type": "markdown",
   "metadata": {
    "colab_type": "text",
    "id": "qmic1nHk7tN8"
   },
   "source": [
    "## Model Evaluation - The Confusion Matrix"
   ]
  },
  {
   "cell_type": "markdown",
   "metadata": {
    "colab_type": "text",
    "id": "haR08mzVMTzN"
   },
   "source": [
    "A confusion matrix, also known as an error matrix, is a specific table layout that allows visualization of the performance of an algorithm."
   ]
  },
  {
   "cell_type": "code",
   "execution_count": 9,
   "metadata": {
    "colab": {
     "base_uri": "https://localhost:8080/",
     "height": 481
    },
    "colab_type": "code",
    "executionInfo": {
     "elapsed": 2947,
     "status": "ok",
     "timestamp": 1596177629515,
     "user": {
      "displayName": "Minh Do",
      "photoUrl": "https://lh3.googleusercontent.com/a-/AOh14GhnQ6aJ2YnaevyJzhii-qGws6Y17w-cwWLqF5iP=s64",
      "userId": "12822549848477954436"
     },
     "user_tz": -420
    },
    "id": "ibzLF3E0IuFS",
    "outputId": "778b7850-e7cd-4e19-cc58-7b8129e7c398"
   },
   "outputs": [
    {
     "data": {
      "text/plain": [
       "<matplotlib.axes._subplots.AxesSubplot at 0x7f95d73a6a10>"
      ]
     },
     "execution_count": 9,
     "metadata": {},
     "output_type": "execute_result"
    },
    {
     "data": {
      "image/png": "[encoded data removed]",
      "text/plain": [
       "<Figure size 720x504 with 2 Axes>"
      ]
     },
     "metadata": {},
     "output_type": "display_data"
    }
   ],
   "source": [
    "y_true = ['Negative', 'Positive']\n",
    "y_pred = ['true', 'fasle']\n",
    "data = confusion_matrix(y, predictions)\n",
    "df_cm = pd.DataFrame(data, columns=np.unique(y_pred), index = np.unique(y_true))\n",
    "df_cm.index.name = 'Actual'\n",
    "df_cm.columns.name = 'Predicted'\n",
    "plt.figure(figsize = (10,7))\n",
    "sns.set(font_scale=1.4)#for label size\n",
    "sns.heatmap(df_cm, cmap=\"YlGnBu\", annot=True,annot_kws={\"size\": 16})# font size"
   ]
  },
  {
   "cell_type": "markdown",
   "metadata": {
    "colab_type": "text",
    "id": "adRdzfJoRifl"
   },
   "source": [
    "**Type 1 and Type 2 errors**"
   ]
  },
  {
   "cell_type": "markdown",
   "metadata": {
    "colab_type": "text",
    "id": "3NycrFcQRWBY"
   },
   "source": [
    "![alt text](https://www.statisticssolutions.com/wp-content/uploads/2017/12/rachnovblog.jpg)\n",
    "\n",
    "source: https://www.statisticssolutions.com/to-err-is-human-what-are-type-i-and-ii-errors/"
   ]
  },
  {
   "cell_type": "markdown",
   "metadata": {
    "colab_type": "text",
    "id": "tgZXvm79MzlY"
   },
   "source": [
    "### Terminologies"
   ]
  },
  {
   "cell_type": "markdown",
   "metadata": {
    "colab_type": "text",
    "id": "k5XVughUMb0O"
   },
   "source": [
    "**Recall, sensitivity, hit rate, or true positive rate(TPR)**\n",
    "\n",
    "$$\n",
    "TPR = \\frac{TP}{P} = \\frac{TP}{TP + FN}\n",
    "$$\n",
    "\n",
    "**precision or positive predictive value (PPV)**\n",
    "\n",
    "$$\n",
    "PPV = \\frac{TP}{TP + FP}\n",
    "$$\n",
    "\n",
    "**accuracy (ACC)**\n",
    "\n",
    "$$\n",
    "ACC = \\frac{TP + TN}{P + N}\n",
    "$$\n",
    "\n",
    "**F1 score**: the **harmonic mean** of **precision** and **recall**\n",
    "\n",
    "$$\n",
    "F_1 = 2 \\frac{Precision . Recall}{Precision + Recall}\n",
    "$$"
   ]
  },
  {
   "cell_type": "code",
   "execution_count": 42,
   "metadata": {
    "colab": {
     "base_uri": "https://localhost:8080/",
     "height": 170
    },
    "colab_type": "code",
    "executionInfo": {
     "elapsed": 2943,
     "status": "ok",
     "timestamp": 1596177629515,
     "user": {
      "displayName": "Minh Do",
      "photoUrl": "https://lh3.googleusercontent.com/a-/AOh14GhnQ6aJ2YnaevyJzhii-qGws6Y17w-cwWLqF5iP=s64",
      "userId": "12822549848477954436"
     },
     "user_tz": -420
    },
    "id": "XXjLcQZiJz20",
    "outputId": "b3b453cc-9ec3-4b4b-8ed2-85f05150dcf6"
   },
   "outputs": [
    {
     "name": "stdout",
     "output_type": "stream",
     "text": [
      "              precision    recall  f1-score   support\n",
      "\n",
      "           0       0.33      0.50      0.40         2\n",
      "           1       0.67      0.50      0.57         4\n",
      "\n",
      "    accuracy                           0.50         6\n",
      "   macro avg       0.50      0.50      0.49         6\n",
      "weighted avg       0.56      0.50      0.51         6\n",
      "\n"
     ]
    }
   ],
   "source": [
    "# sklearn classification_report\n",
    "from sklearn.metrics import classification_report\n",
    "\n",
    "y_true = [1, 1, 1, 0, 0, 1]\n",
    "y_pred = [0, 1, 1, 1, 0, 0]\n",
    "\n",
    "# TP = 2\n",
    "# TN = 1\n",
    "# FP = 1\n",
    "# FN = 2\n",
    "# PPV = 2/3\n",
    "# Recall = 2/4\n",
    "print(classification_report(y_true, y_pred))"
   ]
  },
  {
   "cell_type": "code",
   "execution_count": 42,
   "metadata": {
    "colab": {},
    "colab_type": "code",
    "executionInfo": {
     "elapsed": 2939,
     "status": "ok",
     "timestamp": 1596177629516,
     "user": {
      "displayName": "Minh Do",
      "photoUrl": "https://lh3.googleusercontent.com/a-/AOh14GhnQ6aJ2YnaevyJzhii-qGws6Y17w-cwWLqF5iP=s64",
      "userId": "12822549848477954436"
     },
     "user_tz": -420
    },
    "id": "Jd7LrJ7ntIDd"
   },
   "outputs": [],
   "source": []
  }
 ],
 "metadata": {
  "colab": {
   "collapsed_sections": [],
   "name": "Week5_Lecture_Logistic Regression.ipynb",
   "provenance": []
  },
  "kernelspec": {
   "display_name": "Python 3",
   "language": "python",
   "name": "python3"
  },
  "language_info": {
   "codemirror_mode": {
    "name": "ipython",
    "version": 3
   },
   "file_extension": ".py",
   "mimetype": "text/x-python",
   "name": "python",
   "nbconvert_exporter": "python",
   "pygments_lexer": "ipython3",
   "version": "3.7.7"
  }
 },
 "nbformat": 4,
 "nbformat_minor": 1
}
